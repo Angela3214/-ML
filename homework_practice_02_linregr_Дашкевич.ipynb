{
  "nbformat": 4,
  "nbformat_minor": 0,
  "metadata": {
    "kernelspec": {
      "display_name": "Python 3",
      "language": "python",
      "name": "python3"
    },
    "language_info": {
      "codemirror_mode": {
        "name": "ipython",
        "version": 3
      },
      "file_extension": ".py",
      "mimetype": "text/x-python",
      "name": "python",
      "nbconvert_exporter": "python",
      "pygments_lexer": "ipython3",
      "version": "3.8.3"
    },
    "colab": {
      "name": "homework-practice-02-linregr-Дашкевич.ipynb",
      "provenance": [],
      "include_colab_link": true
    }
  },
  "cells": [
    {
      "cell_type": "markdown",
      "metadata": {
        "id": "view-in-github",
        "colab_type": "text"
      },
      "source": [
        "<a href=\"https://colab.research.google.com/github/Angela3214/-ML/blob/main/homework_practice_02_linregr_%D0%94%D0%B0%D1%88%D0%BA%D0%B5%D0%B2%D0%B8%D1%87.ipynb\" target=\"_parent\"><img src=\"https://colab.research.google.com/assets/colab-badge.svg\" alt=\"Open In Colab\"/></a>"
      ]
    },
    {
      "cell_type": "markdown",
      "metadata": {
        "id": "L-eqRS8sKdaB"
      },
      "source": [
        "# Лабораторная работа 2\n",
        "\n",
        "## Линейная регрессия"
      ]
    },
    {
      "cell_type": "markdown",
      "metadata": {
        "id": "73BsE4mDKdaH"
      },
      "source": [
        "### Метод наименьших квадратов: постановка задачи\n",
        "\n",
        "Рассмотрим систему уравнений $Xa = y$, в которой $a$ — столбец неизвестных. Её можно переписать в векторном виде\n",
        "$$x_1 a_1 + x_2 a_2 + \\ldots + x_k a_k = y,$$\n",
        "где $x_1,\\ldots,x_k$ — столбцы матрицы $X$. Таким образом, решить исходную систему означает найти линейную комбинацию векторов $x_1,\\ldots,x_k$, равную правой части. Но что делать, если такой линейной комбинации не существует? Геометрически это означает, что вектор $y$ не лежит в подпространстве $U = \\langle x_1,\\ldots, x_k\\rangle$. В этом случае мы можем найти *псевдорешение*: вектор коэффициентов $\\hat{a}$, для которого линейная комбинация $x_1 \\hat{a}_1 + x_2 \\hat{a}_2 + \\ldots + x_k \\hat{a}_k$ хоть и не равна в точности $y$, но является наилучшим приближением — то есть ближайшей к $y$ точкой $\\hat{y}$ подпространства $U$ (иными словами, ортогональной проекцией $y$ на это подпростанство). Итак, цель наших исканий можно сформулировать двумя эквивалентными способами:\n",
        "\n",
        "1. Найти вектор $\\hat{a}$, для которого длина разности $|X\\hat{a} - y|$ минимальна (отсюда название \"метод наименьших квадратов\");\n",
        "2. Найти ортогональную проекцию $\\hat{y}$ вектора $y$ на подпространство $U$ и представить её в виде $X\\hat{a}$.\n",
        "\n",
        "Далее мы будем предполагать, что векторы $x_1,\\ldots,x_k$ линейно независимы (если нет, то сначала имеет смысл выделить максимальную линейно независимую подсистему).\n",
        "\n",
        "На лекциях было показано, что проекция вектора $y$ на подпространство $U = \\langle x_1,\\ldots, x_k\\rangle$, записывается в виде\n",
        "$$\\hat{y} = X\\left(X^TX\\right)^{-1}X^Ty,$$\n",
        "и, соответственно, искомый вектор $\\hat{a}$ равен\n",
        "$$\\hat{a} = \\left(X^TX\\right)^{-1}X^Ty.$$"
      ]
    },
    {
      "cell_type": "markdown",
      "metadata": {
        "id": "QXIwkkHqKdaL"
      },
      "source": [
        "### Задача линейной регрессии\n",
        "\n",
        "Начнём с примера. Допустим, вы хотите найти зависимость среднего балла S студента ФКН от его роста H, веса W, длины волос L и N — количества часов, которые он ежедневно посвящает учёбе. Представьте, что мы измерили все эти параметры для $n$ студентов и получили наборы значений: $S_1,\\ldots, S_n$, $H_1,\\ldots, H_n$ и так далее.\n",
        "\n",
        "Тут можно подбирать много разных умных моделей, но начать имеет смысл с самой простой, линейной:\n",
        "$$S = a_1H + a_2W + a_3L + a_4N + a_5.$$\n",
        "Конечно, строгой линейной зависимости нет (иначе можно было бы радостно упразднить экзамены), но мы можем попробовать подобрать коэффициенты $a_1, a_2, a_3, a_4, a_5$, для которых отклонение правой части от наблюдаемых было бы наименьшим:\n",
        "$$\\sum_{i=1}^n\\left(S_i - ( a_1H_i + a_2W_i + a_3L_i + a_4N_i + a_5)\\right)^2 \\longrightarrow \\min$$\n",
        "И сразу видно, что мы получили задачу на метод наименьших квадратов! А именно, у нас\n",
        "$$X =\n",
        "\\begin{pmatrix}\n",
        "H_1 & W_1 & L_1 & N_1 & 1\\\\\n",
        "H_2 & W_2 & L_2 & N_2 & 1\\\\\n",
        "\\dots & \\dots & \\dots & \\dots & \\dots \\\\\n",
        "H_n & W_n & L_n & N_n & 1\n",
        "\\end{pmatrix},\\qquad y=\n",
        "\\begin{pmatrix}\n",
        "S_1\\\\ S_2\\\\ \\vdots \\\\ S_n\n",
        "\\end{pmatrix}$$\n",
        "\n",
        "Решая эту задачу с помощью уже известных формул, получаем оценки коэффициентов $\\hat{a}_i$ ($i = 1\\ldots,5$)."
      ]
    },
    {
      "cell_type": "markdown",
      "metadata": {
        "id": "2deWVq7JKdaN"
      },
      "source": [
        "Теперь проговорим общую постановку задачи линейной регрессии. У нас есть $k$ переменных $x_1,\\ldots,x_k$ (\"регрессоров\"), через которые мы хотим выразить \"объясняемую переменную\" $y$:\n",
        "$$y = a_1x_1 + a_2x_2 + \\ldots + a_kx_k$$\n",
        "Значения всех переменных мы измерили $n$ раз (у $n$ различных объектов,  в $n$ различных моментов времени - это зависит от задачи). Подставим эти данные в предыдущее равенство:\n",
        "$$\\begin{pmatrix}\n",
        "y_1\\\\ y_2 \\\\ \\vdots \\\\ y_n\n",
        "\\end{pmatrix} = \n",
        "a_1\\begin{pmatrix}\n",
        "x_{11} \\\\ x_{21} \\\\ \\vdots \\\\ x_{n1} \\end{pmatrix} + a_2\\begin{pmatrix}\n",
        "x_{12} \\\\ x_{22} \\\\ \\vdots \\\\ x_{n2} \\end{pmatrix} + \\ldots + a_k\\begin{pmatrix}\n",
        "x_{1k} \\\\ x_{2k} \\\\ \\vdots \\\\ x_{nk} \\end{pmatrix}$$\n",
        "(здесь $x_{ij}$ - это значение $j$-го признака на $i$-м измерении). Это удобно переписать в матричном виде:\n",
        "$$\\begin{pmatrix}\n",
        "x_{11} & x_{12} & \\ldots & x_{1k}\\\\\n",
        "x_{21} & x_{22} & \\ldots & x_{2k}\\\\\n",
        "\\dots & \\dots & \\dots & \\dots\\\\\n",
        "x_{n1} & x_{n2} & \\ldots & x_{nk}\n",
        "\\end{pmatrix} \\cdot\n",
        "\\begin{pmatrix}\n",
        "a_1 \\\\ a_2 \\\\ \\vdots \\\\ a_k\n",
        "\\end{pmatrix} = \n",
        "\\begin{pmatrix}\n",
        "y_1 \\\\ y_2 \\\\ \\vdots \\\\ y_n\n",
        "\\end{pmatrix}$$\n",
        "или коротко $Xa = y$. Поскольку на практике эта система уравнений зачастую не имеет решения (ибо зависимости в жизни редко бывают действительно линейными), методом наименьших квадратов ищется псевдорешение."
      ]
    },
    {
      "cell_type": "markdown",
      "metadata": {
        "id": "7TOw-vtrKdaP"
      },
      "source": [
        "### Оценка качества. Обучение и тест \n",
        "\n",
        "После того, как вы построили регрессию и получили какую-то зависимость объясняемой переменной от регрессоров, настаёт время оценить качество регрессии. Есть много разных функционалов качества; мы пока будем говорить только о самом простом и очевидном из них: о среднеквадратичной ошибке (mean square error). Она равна\n",
        "$$\\frac1{n}|X\\hat{a} - y|^2 = \\frac1{n}\\sum_{i=1}^n\\left(\\hat{a}_1x_{i1} + \\hat{a}_2x_{i2} + \\ldots + \\hat{a}_kx_{ik} - y_i\\right)^2$$\n",
        "\n",
        "В целом, хочется искать модели с наименьшей mean square error на имеющихся данных. Однако слишком фанатичная гонка за минимизацией ошибки может привести к печальным последствиям, в чём Вам предстоит убедиться в ходе выполнения этой лабораторной.\n",
        "\n",
        "Чтобы не попадать в эту ловушку, данные обычно делят на обучающие (по которым строят модель и оценивают коэффициенты) и тестовые. Лучшей стоит счесть ту модель, для которой значение функционала качества будет меньше."
      ]
    },
    {
      "cell_type": "markdown",
      "metadata": {
        "id": "R700iuZsKdaS"
      },
      "source": [
        "### Правила оформления графиков\n",
        "При работе с данными часто неудобно делать какие-то выводы, если смотреть на таблицу и числа в частности, поэтому важно уметь визуализировать данные. \n",
        "\n",
        "У matplotlib, конечно же, есть [документация](https://matplotlib.org/users/index.html) с большим количеством [примеров](https://matplotlib.org/examples/), но для начала достаточно знать про несколько основных типов графиков:\n",
        "- plot — обычный поточечный график, которым можно изображать кривые или отдельные точки;\n",
        "- hist — гистограмма, показывающая распределение некоторой величины;\n",
        "- scatter — график, показывающий взаимосвязь двух величин;\n",
        "- bar — столбцовый график, показывающий взаимосвязь количественной величины от категориальной.\n",
        "\n",
        "Ещё одна билиотека для визуализации: [seaborn](https://jakevdp.github.io/PythonDataScienceHandbook/04.14-visualization-with-seaborn.html). Это настройка над matplotlib, иногда удобнее и красивее делать визуализации через неё. \n",
        "\n",
        "При выполнении этой лабораторной Вы столкнётесь с необходимость рисовать большое количество графиков. Не забывайте про базовые принципы построения приличных графиков:\n",
        "- оси должны быть подписаны, причём не слишком мелко;\n",
        "- у графика должно быть название;\n",
        "- если изображено несколько графиков, то необходима поясняющая легенда;\n",
        "- для точек из разных выборок, необходимо использовать разные цвета;\n",
        "- все линии на графиках должны быть чётко видны (нет похожих цветов или цветов, сливающихся с фоном);\n",
        "- если отображена величина, имеющая очевидный диапазон значений (например, проценты могут быть от 0 до 100), то желательно масштабировать ось на весь диапазон значений (исключением является случай, когда вам необходимо показать малое отличие, которое незаметно в таких масштабах).\n",
        "\n",
        "Помните, что проверяющий имеет право снизить оценку за неопрятные графики."
      ]
    },
    {
      "cell_type": "markdown",
      "metadata": {
        "id": "5tS_QF6EKdaU"
      },
      "source": [
        "### Формат сдачи\n",
        "Задания сдаются через систему Anytask. Инвайт можно найти на странице курса. Присылать необходимо ноутбук с выполненным заданием. Сам ноутбук называйте в формате homework-practice-02-linregr-Username.ipynb, где Username — Ваша фамилия."
      ]
    },
    {
      "cell_type": "markdown",
      "metadata": {
        "id": "hq7AwkY8KdaW"
      },
      "source": [
        "### Задание 1. Метод наименьших квадратов (3 балла)"
      ]
    },
    {
      "cell_type": "markdown",
      "metadata": {
        "id": "VwZG6lh1KdaX"
      },
      "source": [
        "Скачайте файлы ``train.txt`` и ``test.txt``. В первом из них находится обучающая выборка, а во втором — тестовая. Каждый из файлов содержит два столбца чисел, разделённых пробелами: в первом — $n$ точек (значения аргумента $x$), во втором — значения некоторой функции $y = f(x)$ в этих точках, искажённые случайным шумом. Ваша задача — по обучающей выборке подобрать функцию $y = g(x)$, пристойно приближающую неизвестную вам зависимость."
      ]
    },
    {
      "cell_type": "markdown",
      "metadata": {
        "id": "tt71PP3lKdaY"
      },
      "source": [
        "Загрузим обучающие и тестовые данные (не забудьте ввести правильный путь!)."
      ]
    },
    {
      "cell_type": "code",
      "metadata": {
        "id": "AYS1KjBTKdaZ"
      },
      "source": [
        "import numpy as np\n",
        "data_train = np.loadtxt('D:/train.txt', delimiter=',')\n",
        "data_test = np.loadtxt('D:/test.txt', delimiter=',')\n"
      ],
      "execution_count": null,
      "outputs": []
    },
    {
      "cell_type": "markdown",
      "metadata": {
        "id": "nvAezZcxKdab"
      },
      "source": [
        "**0. [0 баллов]** Разделим значения $x$ и $y$"
      ]
    },
    {
      "cell_type": "code",
      "metadata": {
        "id": "jP-Abg_6Kdac"
      },
      "source": [
        "X_train = data_train[:,0]\n",
        "y_train = data_train[:,1]\n",
        "\n",
        "# Сделайте то же для тестовой выборки\n",
        "#╰( ͡° ͜ʖ ͡° )つ──☆*:・ﾟ\n",
        "X_test = data_test[:,0]\n",
        "y_test = data_test[:,1]"
      ],
      "execution_count": null,
      "outputs": []
    },
    {
      "cell_type": "markdown",
      "metadata": {
        "id": "1U3d3VcZKdad"
      },
      "source": [
        "**1. [0.1 балла]** Найдите с помощью метода наименьших квадратов линейную функцию ($y = kx + b$), наилучшим образом приближающую неизвестную зависимость. Полезные функции: ``numpy.ones(n)`` для создания массива из единиц длины $n$ и ``numpy.concatenate((А, В), axis=1)`` для слияния двух матриц по столбцам (пара ``А`` и ``В`` превращается в матрицу ``[A B]``). Напечатайте этот многочлен в виде $kx+b$."
      ]
    },
    {
      "cell_type": "code",
      "metadata": {
        "id": "BfcQVG_8Kdae",
        "outputId": "d9fd3954-cc72-4ace-980d-ca1eab04e1dc"
      },
      "source": [
        "#╰( ͡° ͜ʖ ͡° )つ──☆*:・ﾟ\n",
        "ar = np.concatenate((np.matrix(X_train).T, np.ones((len(X_train), 1))), axis = 1)\n",
        "ans = (ar.T*ar).I*ar.T*np.matrix(y_train).T\n",
        "print(float(ans[0]), \"*x +\", float(ans[1][0]))"
      ],
      "execution_count": null,
      "outputs": [
        {
          "output_type": "stream",
          "text": [
            "2.27913449805195 *x + 4.433230905064935\n"
          ],
          "name": "stdout"
        }
      ]
    },
    {
      "cell_type": "markdown",
      "metadata": {
        "id": "dXvv_q8yKdag"
      },
      "source": [
        "**2. [0.15 балла]** Нарисуйте на плоскости точки $(x_i, y_i)$ из обеих выборок и полученную линейную функцию."
      ]
    },
    {
      "cell_type": "code",
      "metadata": {
        "id": "o5xy4qDoKdag",
        "outputId": "84836c4e-4e04-45f7-8fb4-cd2190b33e7f"
      },
      "source": [
        "#╰( ͡° ͜ʖ ͡° )つ──☆*:・ﾟ\n",
        "from matplotlib import pyplot as plt\n",
        "\n",
        "def f(x):\n",
        "    return ans[0]*x + ans[1]\n",
        "plt.scatter(X_train, y_train, label = \"Тренировочная выборка\", color = 'black')\n",
        "plt.scatter(X_test, y_test, label = \"Тестовая выборка\", color = 'yellow')\n",
        "plt.plot(X_test, f(X_test).T, label = \"Наша линейная функция\")\n",
        "plt.title(\"Точки (х, у) и полученная линейная функция\")\n",
        "plt.xlabel(\"x\")\n",
        "plt.ylabel(\"y\")\n",
        "plt.legend()\n",
        "plt.show()"
      ],
      "execution_count": null,
      "outputs": [
        {
          "output_type": "display_data",
          "data": {
            "image/png": "[encoded data removed]",
            "text/plain": [
              "<Figure size 432x288 with 1 Axes>"
            ]
          },
          "metadata": {
            "tags": [],
            "needs_background": "light"
          }
        }
      ]
    },
    {
      "cell_type": "markdown",
      "metadata": {
        "id": "TwvvPL8BKdai"
      },
      "source": [
        "**3. [0.15 балла]** Глядя на данные, подумайте, многочленом какой степени можно было бы лучше всего приблизить эту функцию с точки зрения минимизации среднеквадратичной ошибки на обучающей выборке. Найдите этот многочлен и напечатайте его в виде $a_0 + a_1 x + \\ldots a_k x^k$."
      ]
    },
    {
      "cell_type": "code",
      "metadata": {
        "id": "m6hFlgglKdaj",
        "outputId": "869cf59c-bc4d-41d3-da3e-7c502e8767aa"
      },
      "source": [
        "#╰( ͡° ͜ʖ ͡° )つ──☆*:・ﾟ\n",
        "def poly(k):\n",
        "    A = np.ones((len(X_train), 1))\n",
        "    for i in range(1, k + 1):\n",
        "        A = np.concatenate((A, np.matrix(X_train**i).T), axis = 1)\n",
        "    ans = (A.T*A).I*A.T*np.matrix(y_train).T\n",
        "    return ans\n",
        "def print_poly(coef):\n",
        "    print(float(coef[0]), '+', float(coef[1]), 'x', sep='', end='')\n",
        "    for i in range(2, len(coef)):\n",
        "        print('+', float(coef[i]), 'x^', i,sep=\"\", end='')\n",
        "    print()\n",
        "def f(coef, x):\n",
        "    coef = coef.tolist()\n",
        "    ar = []\n",
        "    for i in range(len(coef)):\n",
        "        ar.append(coef[len(coef) - i - 1][0])\n",
        "    pol = np.poly1d(ar)\n",
        "    return pol(x)\n",
        "print(\"для k =\", 3, \": \",end='')\n",
        "print_poly(poly(3))"
      ],
      "execution_count": null,
      "outputs": [
        {
          "output_type": "stream",
          "text": [
            "для k = 3 : 4.460736355285147+1.0650161052851068x+1.8597508372609308x^2+-0.38176860428818316x^3\n"
          ],
          "name": "stdout"
        }
      ]
    },
    {
      "cell_type": "markdown",
      "metadata": {
        "id": "jPSwYf88Kdak"
      },
      "source": [
        "**4. [0.1 балла]** Нарисуйте его график на одном чертеже вместе с точками $(x_i, y_i)$ из обеих выборок."
      ]
    },
    {
      "cell_type": "code",
      "metadata": {
        "id": "UtF5dx94Kdal",
        "outputId": "0682c795-6e99-447c-8e94-274e56cc4148"
      },
      "source": [
        "#╰( ͡° ͜ʖ ͡° )つ──☆*:・ﾟ\n",
        "plt.scatter(X_train, y_train, label = \"Тренировочная выборка\", color = 'black')\n",
        "plt.scatter(X_test, y_test, label = \"Тестовая выборка\", color = 'yellow')\n",
        "plt.plot(X_test, f(poly(3), X_test), label = \"Предполагаемый многочлен\")\n",
        "plt.title(\"Точки (х, у) и предполагаемый многочлен\")\n",
        "plt.xlabel(\"x\")\n",
        "plt.ylabel(\"y\")\n",
        "plt.legend()\n",
        "plt.show()"
      ],
      "execution_count": null,
      "outputs": [
        {
          "output_type": "display_data",
          "data": {
            "image/png": "[encoded data removed]",
            "text/plain": [
              "<Figure size 432x288 with 1 Axes>"
            ]
          },
          "metadata": {
            "tags": [],
            "needs_background": "light"
          }
        }
      ]
    },
    {
      "cell_type": "markdown",
      "metadata": {
        "id": "03GRAGsTKdam"
      },
      "source": [
        "**5. [0.25 балла]** Для $k = 1,2,3,\\ldots,10$ найдите многочлен $\\hat{f}_k$ степени $k$, наилучшим образом приближающий неизвестную зависимость. Напечатайте найденные многочлены в виде $a_0 + a_1 x + \\ldots a_k x^k$."
      ]
    },
    {
      "cell_type": "code",
      "metadata": {
        "id": "e91UiFerKdan",
        "outputId": "740a686d-85d7-49e2-c96b-6a78ed8030fb"
      },
      "source": [
        "#╰( ͡° ͜ʖ ͡° )つ──☆*:・ﾟ\n",
        "for i in range(1, 11):\n",
        "    print(\"для k =\", i, \": \",end='')\n",
        "    print_poly(poly(i))\n",
        "    print()"
      ],
      "execution_count": null,
      "outputs": [
        {
          "output_type": "stream",
          "text": [
            "для k = 1 : 4.433230905064935+2.2791344980519463x\n",
            "\n",
            "для k = 2 : 4.472476503404162+1.1578316883597481x+1.4016285121152738x^2\n",
            "\n",
            "для k = 3 : 4.460736355285147+1.0650161052851068x+1.8597508372609308x^2+-0.38176860428818316x^3\n",
            "\n",
            "для k = 4 : 4.341166120399635+1.1718023926318055x+6.7940917843605035x^2+-13.051328119988625x^3+7.918474697311261x^4\n",
            "\n",
            "для k = 5 : 4.431297813827996+-0.1305980398675337x+3.274714401776599x^2+21.374796276399223x^3+-51.1314813855754x^4+29.524978041429065x^5\n",
            "\n",
            "для k = 6 : 4.383795010921297+-4.597179326193927x+16.002903993368363x^2+121.25709712788569x^3+-481.5101328853108x^4+581.453298243842x^5+-229.97013341870002x^6\n",
            "\n",
            "для k = 7 : 4.44451270934287+-4.0088959024654045x+7.215458559885491x^2+119.35078431892x^3+-314.23117234873587x^4+122.87821664144394x^5+238.69936824799606x^6+-167.3819648855183x^7\n",
            "\n",
            "для k = 8 : 4.663789110119307+-5.182773429096918x+-26.695632423834578x^2+268.86044390602393x^3+109.8956783422816x^4+-3132.856466418936x^5+6760.628613413113x^6+-5701.710314683662x^7+1729.4776090304922x^8\n",
            "\n",
            "для k = 9 : 4.645883451491439+-4.552705468075985x+-24.262716615010845x^2+219.04205380404824x^3+176.2453996344002x^4+-2441.962921868093x^5+3913.268983882983x^6+-1216.4495596979104x^7+-1522.0973004258994x^8+903.215241519305x^9\n",
            "\n",
            "для k = 10 : 4.669169797462869+-2.1597968667450864x+-36.175192310049454x^2+44.934703262095354x^3+1201.953532205278x^4+-1660.823796085162x^5+-12969.93344380334x^6+46686.64574029x^7+-63620.98727437545x^8+40177.52318651695x^9+-9818.576039518302x^10\n",
            "\n"
          ],
          "name": "stdout"
        }
      ]
    },
    {
      "cell_type": "markdown",
      "metadata": {
        "id": "cFgwa66jKdao"
      },
      "source": [
        "**6. [1 балл]** Для каждого из них найдите среднеквадратическую ошибку на обучающих данных и на тестовых данных: $\\frac1{n}\\sum_{i=1}^n\\left( \\hat{f}_k(x_i) - y_i \\right)^2$ (в первом случае сумма ведётся по парам $(x_i, y_i)$ из обучающих данных, а во втором — по парам из тестовых данных)."
      ]
    },
    {
      "cell_type": "code",
      "metadata": {
        "id": "aBKZEPcpKdap",
        "outputId": "448f1a73-2f7b-444a-d508-d459579d9539"
      },
      "source": [
        "#╰( ͡° ͜ʖ ͡° )つ──☆*:・ﾟ\n",
        "def MSE(y_real, y_pred):\n",
        "    ans = 0\n",
        "    for i in range(len(y_real)):\n",
        "        ans += (y_real[i] - y_pred[i])**2\n",
        "    return ans/len(y_pred)\n",
        "\n",
        "print(\"для тренировочной\", end = '')\n",
        "for i in range(1, 11):\n",
        "    print(\" k=\", i, \": \", end = '')\n",
        "    print(MSE(f(poly(i), X_train), y_train))\n",
        "print(\"для тестовой\", end = '')\n",
        "for i in range(1, 11):\n",
        "    print(\" k=\", i, \": \", end = '')\n",
        "    print(MSE(f(poly(i), X_test), y_test))"
      ],
      "execution_count": null,
      "outputs": [
        {
          "output_type": "stream",
          "text": [
            "для тренировочной k= 1 : 0.29689663326251964\n",
            " k= 2 : 0.2696989158766913\n",
            " k= 3 : 0.26949718714796117\n",
            " k= 4 : 0.26106653305792754\n",
            " k= 5 : 0.24998504648317516\n",
            " k= 6 : 0.1882934898837029\n",
            " k= 7 : 0.18539621153294583\n",
            " k= 8 : 0.1590555657908895\n",
            " k= 9 : 0.15847184274752546\n",
            " k= 10 : 0.15316611003112413\n",
            "для тестовой k= 1 : 0.4351202004048878\n",
            " k= 2 : 0.3564762887831255\n",
            " k= 3 : 0.35534645715183955\n",
            " k= 4 : 0.4417270189285447\n",
            " k= 5 : 0.5579732021788709\n",
            " k= 6 : 2.5816929325226528\n",
            " k= 7 : 2.5157829074244837\n",
            " k= 8 : 4.3572888630174775\n",
            " k= 9 : 4.776341940079592\n",
            " k= 10 : 14.632412163030514\n"
          ],
          "name": "stdout"
        }
      ]
    },
    {
      "cell_type": "markdown",
      "metadata": {
        "id": "GsuN9_o7Kdaq"
      },
      "source": [
        "**7. [0.75 балла]** Для $k = 1,2,3,4,6$ нарисуйте графики полученных многочленов на одном чертеже вместе с точками $(x_i, y_i)$ из обеих выборок (возможно, график стоит сделать побольше; это делается командой `plt.figure(figsize=(width, height))`)."
      ]
    },
    {
      "cell_type": "code",
      "metadata": {
        "id": "1dUXR6SDKdar",
        "outputId": "053db9d8-2532-4298-9e09-666ad62147c2"
      },
      "source": [
        "#╰( ͡° ͜ʖ ͡° )つ──☆*:・ﾟ\n",
        "plt.figure(figsize=(15, 15))\n",
        "plt.scatter(X_train, y_train, label = \"Тренировочная выборка\", color = 'black')\n",
        "plt.scatter(X_test, y_test, label = \"Тестовая выборка\", color = 'yellow')\n",
        "plt.plot(X_test, f(poly(1), X_test), label = \"Многочлен 1-ой степени\")\n",
        "plt.plot(X_test, f(poly(2), X_test), label = \"Многочлен 2-ой степени\")\n",
        "plt.plot(X_test, f(poly(3), X_test), label = \"Многочлен 3-ой степени\")\n",
        "plt.plot(X_test, f(poly(4), X_test), label = \"Многочлен 4-ой степени\")\n",
        "plt.plot(X_test, f(poly(6), X_test), label = \"Многочлен 6-ой степени\")\n",
        "plt.title(\"Точки (х, у) и многочлены\")\n",
        "plt.xlabel(\"x\")\n",
        "plt.ylabel(\"y\")\n",
        "plt.legend()\n",
        "plt.show()"
      ],
      "execution_count": null,
      "outputs": [
        {
          "output_type": "display_data",
          "data": {
            "image/png": "[encoded data removed]",
            "text/plain": [
              "<Figure size 1080x1080 with 1 Axes>"
            ]
          },
          "metadata": {
            "tags": [],
            "needs_background": "light"
          }
        }
      ]
    },
    {
      "cell_type": "markdown",
      "metadata": {
        "id": "KKNVFseLKdas"
      },
      "source": [
        "**8. [0.5 балла]** Что происходит с ошибкой при росте степени многочлена? Казалось бы, чем больше степень, тем более сложным будет многочлен и тем лучше он будет приближать нашу функцию. Подтверждают ли это ваши наблюдения? Как вам кажется, чем объясняется поведение ошибки на тестовых данных при $k = 10$? Как называется наблюдаемый Вами эффект?"
      ]
    },
    {
      "cell_type": "markdown",
      "metadata": {
        "id": "FO1mWA_wKdat"
      },
      "source": [
        "╰( ͡° ͜ʖ ͡° )つ──☆*:・ﾟ\n",
        "Ошибка уменьшается на тренировочной выборке, а на тестовой увеличивается. \n",
        "Нет, не подтверждают, т.к. происходит переобучение на тренировочных данных при больших k (в том числе и при k = 10). Функция пытается как можно больше быть похожей на функцию, данную в тренировочных данных и поэтому на новых данных, о которых она еще не знает, это работает плохо (например, за границами тренировочной выборки).\n",
        "Переобучение."
      ]
    },
    {
      "cell_type": "markdown",
      "metadata": {
        "id": "l8VNiJEoKdau"
      },
      "source": [
        "### Задание 2. Линейная регрессия (3.5 балла)"
      ]
    },
    {
      "cell_type": "markdown",
      "metadata": {
        "id": "JWF7zSgpKdav"
      },
      "source": [
        "Скачайте файлы ``flats_moscow_mod.txt`` и ``flats_moscow_description.txt``. В первом из них содержатся данные о квартирах в Москве. Каждая строка содержит шесть характеристик некоторой квартиры, разделённые знаками табуляции; в первой строке записаны кодовые названия характеристик. Во втором файле приведены краткие описания признаков."
      ]
    },
    {
      "cell_type": "markdown",
      "metadata": {
        "id": "EgicKrVlKdaw"
      },
      "source": [
        "**0. [0 баллов]** Разделите выборку на обучающую и тестовую. Делать это лучше случайным образом (ведь вы не знаете, как создатели датасета упорядочили объекты); рекомендуем вам для этого функцию `sklearn.model_selection.train_test_split` с параметром `test_size=0.3`. Не забудьте зафиксировать параметр `random_state`."
      ]
    },
    {
      "cell_type": "code",
      "metadata": {
        "id": "fCdnoyhpKdaw"
      },
      "source": [
        "#╰( ͡° ͜ʖ ͡° )つ──☆*:・ﾟ\n",
        "from sklearn.model_selection import train_test_split\n",
        "data = np.loadtxt(\"D:/flats_moscow_mod.txt\", delimiter='\\t', skiprows=1)\n",
        "X_train, X_test, y_train, y_test = train_test_split(data[:, 1:], data[:,0], test_size=0.3, random_state=11)"
      ],
      "execution_count": null,
      "outputs": []
    },
    {
      "cell_type": "markdown",
      "metadata": {
        "id": "SOvL2fS-Kdax"
      },
      "source": [
        "**1. [0.5 балла]** Вашей задачей будет построить с помощью метода наименьших квадратов (линейную) зависимость между ценой квартиры и остальными доступными параметрами. С помощью известных Вам формул найдите регрессионные коэффициенты. Выпишите построенную модель."
      ]
    },
    {
      "cell_type": "code",
      "metadata": {
        "id": "vW9K1P-IKdaz",
        "outputId": "bd40445b-2bc9-46e2-c28b-64d4c6e87442"
      },
      "source": [
        "#╰( ͡° ͜ʖ ͡° )つ──☆*:・ﾟ\n",
        "ar = np.concatenate((np.matrix(X_train), np.ones((X_train.shape[0], 1))), axis = 1)\n",
        "ans = (ar.T*ar).I*ar.T*np.matrix(y_train).T\n",
        "print(\"Коэффициент для общей площади:\", float(ans[0]))\n",
        "print(\"Коэффициент для жилой площади:\", float(ans[1]))\n",
        "print(\"Коэффициент для площади кухни:\", float(ans[2]))\n",
        "print(\"Коэффициент для расстояния от центра:\", float(ans[3]))\n",
        "print(\"Коэффициент для расстояния до метро:\", float(ans[4]))"
      ],
      "execution_count": null,
      "outputs": [
        {
          "output_type": "stream",
          "text": [
            "Коэффициент для общей площади: 1.7290373683871465\n",
            "Коэффициент для жилой площади: 1.4882119234046445\n",
            "Коэффициент для площади кухни: 0.7523953414977338\n",
            "Коэффициент для расстояния от центра: -3.561427339565614\n",
            "Коэффициент для расстояния до метро: -1.3027318070453082\n"
          ],
          "name": "stdout"
        }
      ]
    },
    {
      "cell_type": "markdown",
      "metadata": {
        "id": "MkOKERI6Kda0"
      },
      "source": [
        "**2. [0.25 балла]** Какой смысл имеют их знаки? Согласуются ли они с вашими представлениями о жизни?"
      ]
    },
    {
      "cell_type": "markdown",
      "metadata": {
        "id": "d9gPZnePKda1"
      },
      "source": [
        "╰( ͡° ͜ʖ ͡° )つ──☆*:・ﾟ\n",
        "Коэффициенты довольно логичные. Коэфф. площади положителен, ведь чем больше, тем лучше, причем общая площадь имеет большее значение, чем жилая. Кухня тоже: чем больше, тем лучше, но уже не так важно. Расстояние от центра нам бы поменьше, поэтому коэффициент имеет противоположный знак, аналогично с расстоянием до метро. coef[5] является свободным членом. Да, согласуются."
      ]
    },
    {
      "cell_type": "markdown",
      "metadata": {
        "id": "i6kfu5ZpKda2"
      },
      "source": [
        "**3. [0.25 балла]** Оцените качество приближения, вычислив среднеквадратическую ошибку на тестовой выборке."
      ]
    },
    {
      "cell_type": "code",
      "metadata": {
        "id": "6pbey6OqKda3",
        "outputId": "74e25aac-9076-48be-ff92-3388895ca7e0"
      },
      "source": [
        "#╰( ͡° ͜ʖ ͡° )つ──☆*:・ﾟ\n",
        "array = np.concatenate((X_test, np.ones((X_test.shape[0], 1))), axis = 1)\n",
        "my_ans = array*ans\n",
        "MSE(y_test, my_ans).tolist()[0][0]\n"
      ],
      "execution_count": null,
      "outputs": [
        {
          "output_type": "execute_result",
          "data": {
            "text/plain": [
              "636.5946037130936"
            ]
          },
          "metadata": {
            "tags": []
          },
          "execution_count": 186
        }
      ]
    },
    {
      "cell_type": "markdown",
      "metadata": {
        "collapsed": true,
        "id": "iua3nemVKda4"
      },
      "source": [
        "### Усложнение модели"
      ]
    },
    {
      "cell_type": "markdown",
      "metadata": {
        "id": "_8rGwJdhKda5"
      },
      "source": [
        "Конечно, никто не гарантирует, что объясняемая переменная (цена квартиры) зависит от остальных характеристик именно линейно. Зависимость может быть, например, квадратичной или логарифмической; больше того, могут быть важны не только отдельные признаки, но и их комбинации. Это можно учитывать, добавляя в качестве дополнительных признаков разные функции от уже имеющихся характеристик: их квадраты, логарифмы, попарные произведения."
      ]
    },
    {
      "cell_type": "markdown",
      "metadata": {
        "id": "GYm0FOItKda5"
      },
      "source": [
        "В этом задании Вам нужно постараться улучшить качество модели, добавляя дополнительные признаки, являющиеся функциями от уже имеющихся. Но будьте осторожны: чрезмерное усложнение модели будет приводить к переобучению."
      ]
    },
    {
      "cell_type": "markdown",
      "metadata": {
        "id": "qHhztbswKda6"
      },
      "source": [
        "**4. [0.25 балла]** Опишите признаки, которые Вы решили добавить. Объясните, чем был мотивирован выбор именно этих признаков."
      ]
    },
    {
      "cell_type": "markdown",
      "metadata": {
        "id": "ThoM-WPqKda7"
      },
      "source": [
        "╰( ͡° ͜ʖ ͡° )つ──☆*:・ﾟ\n",
        "Я считаю, что жил. площадь это очень весомый признак, из-за которого может сильно расти цена. Поэтому я попробовала возвести его в квадрат и, к счастью, это улучшило мою модель :) "
      ]
    },
    {
      "cell_type": "markdown",
      "metadata": {
        "id": "uumh2dFIKda7"
      },
      "source": [
        "**5. [2 балла]** Постройте с помощью метода наименьших квадратов (линейную) зависимость между ценой квартиры и новыми признаками. С помощью известных Вам формул найдите регрессионные коэффициенты. Выпишите построенную модель."
      ]
    },
    {
      "cell_type": "code",
      "metadata": {
        "id": "9NdcNI60Kda8",
        "outputId": "c069c72a-2d21-4376-caa2-3ba0482a63a6"
      },
      "source": [
        "#╰( ͡° ͜ʖ ͡° )つ──☆*:・ﾟ\n",
        "attay=X_train.copy()\n",
        "\n",
        "attay = np.concatenate((attay, np.matrix(np.power(X_train[:, 1], 2)).T), axis = 1)\n",
        "X_test1=np.concatenate((X_test, np.matrix(np.power(X_test[:, 1], 2)).T), axis = 1)\n",
        "ar = np.concatenate((np.matrix(attay), np.ones((X_train.shape[0], 1))), axis = 1)\n",
        "ans = (ar.T*ar).I*ar.T*np.matrix(y_train).T\n",
        "X_test2=np.concatenate((np.matrix(X_test1), np.ones((X_test.shape[0], 1))), axis = 1)\n",
        "my_price = X_test2*ans\n",
        "\n",
        "print(\"Коэффициент для остальной площади:\", float(ans[0]))\n",
        "print(\"Коэффициент для жилой площади:\", float(ans[1]))\n",
        "print(\"Коэффициент для площади кухни:\", float(ans[2]))\n",
        "print(\"Коэффициент для расстояния от центра:\", float(ans[3]))\n",
        "print(\"Коэффициент для расстояния до метро:\", float(ans[4]))\n",
        "print(\"Кооэффициент для расстояния до метро в квадрате:\", float(ans[5]))\n",
        "MSE(y_test, my_price).tolist()[0][0]"
      ],
      "execution_count": null,
      "outputs": [
        {
          "output_type": "stream",
          "text": [
            "Коэффициент для остальной площади: 1.6934123470240257\n",
            "Коэффициент для жилой площади: -8.426800284636027\n",
            "Коэффициент для площади кухни: 1.3147271872915194\n",
            "Коэффициент для расстояния от центра: -3.57705301746954\n",
            "Коэффициент для расстояния до метро: -1.1821711216762885\n",
            "Кооэффициент для расстояния до метро в квадрате: 0.09276624200693104\n"
          ],
          "name": "stdout"
        },
        {
          "output_type": "execute_result",
          "data": {
            "text/plain": [
              "590.7400222931612"
            ]
          },
          "metadata": {
            "tags": []
          },
          "execution_count": 187
        }
      ]
    },
    {
      "cell_type": "markdown",
      "metadata": {
        "id": "dg4zwEUsKda-"
      },
      "source": [
        "**6. [0.25 балла]** Оцените качество приближения, вычислив среднеквадратическую ошибку на тестовой выборке."
      ]
    },
    {
      "cell_type": "code",
      "metadata": {
        "id": "KzrkHZGvKda-",
        "outputId": "404ea7a1-e29a-419d-bbe2-1ba14bfa025b"
      },
      "source": [
        "#╰( ͡° ͜ʖ ͡° )つ──☆*:・ﾟ\n",
        "MSE(y_test, my_price).tolist()[0][0]"
      ],
      "execution_count": null,
      "outputs": [
        {
          "output_type": "execute_result",
          "data": {
            "text/plain": [
              "590.7400222931612"
            ]
          },
          "metadata": {
            "tags": []
          },
          "execution_count": 188
        }
      ]
    },
    {
      "cell_type": "markdown",
      "metadata": {
        "id": "8AKnWAL_Kda_"
      },
      "source": [
        "### Задание 3. Регуляризация (3.5 балла)"
      ]
    },
    {
      "cell_type": "markdown",
      "metadata": {
        "id": "U5A16MkmKdbA"
      },
      "source": [
        "Вспомним, что задача линейной регрессии формулируется как задача нахождения проекции вектора значений объясняемой переменной $y$ на линейную оболочку $\\langle x_1,\\ldots,x_k\\rangle$ векторов значений регрессоров. Если векторы $x_1,\\ldots,x_k$ линейно зависимы, то матрица $X^TX$ вырожденна и задача не будет решаться с помощью приведённой выше формулы. В жизни, по счастью, различные признаки редко бывают *в точности* линейно зависимы, однако во многих ситуациях они скоррелированы и становятся \"почти\" линейно зависимыми. Таковы, к примеру, зарплата человека, его уровень образования, цена машины и суммарная площадь недвижимости, которой он владеет. В этом случае матрица $X^TX$ будет близка к вырожденной, и это приводит к численной неустойчивости и плохому качеству решений; как следствие, будет иметь место переобучение. Один из симптомов этой проблемы — необычно большие по модулю компоненты вектора $a$.\n",
        "\n",
        "Есть много способов борьбы с этим злом. Один из них - регуляризация. Сейчас мы рассмотрим одну из её разновидностей — **L2-регуляризацию**. Идея в том, чтобы подправить матрицу $X^TX$, сделав её \"получше\". Например, это можно сделать, заменив её на $(X^TX + \\lambda E)$, где $\\lambda > 0$ — некоторый скаляр. Пожертвовав точностью на обучающей выборке, мы тем не менее получаем численно более стабильное псевдорешение $a = (X^TX + \\lambda E)^{-1}X^Ty$ и снижаем эффект переобучения. *Гиперпараметр* $\\lambda$ нужно подбирать, и каких-то универсальных способов это делать нет, но зачастую можно его подобрать таким, чтобы ошибка на тестовой выборке падала.\n",
        "\n",
        "Однако есть некоторые правила, которых стоит придерживаться при подборе коэффициента регуляризации. Обычно в такой ситуации всю выборку делят на три части: обучающую, *валидационную* и тестовую. Сначала по валидационной подбирают значение гиперпараметра, потом по обучающей строят модель, а по тестовой оценивают её итоговое качество. Кроме того, подбирать $\\lambda$ нужно по логарифметической сетке, чтобы узнать оптимальный порядок величины."
      ]
    },
    {
      "cell_type": "markdown",
      "metadata": {
        "id": "2KorDCqNKdbB"
      },
      "source": [
        "**1. [0.25 балла]** Почему не стоит подбирать коэффициент регуляризации по обучающей выборке? По тестовой выборке?"
      ]
    },
    {
      "cell_type": "markdown",
      "metadata": {
        "id": "zY56fJPbKdbC"
      },
      "source": [
        "╰( ͡° ͜ʖ ͡° )つ──☆*:・ﾟ\n",
        "Почему не стоит по обучающей выборке? Как видно из формулы, тогда бы самым оптимальным лямбда был бы лямбда равный нулю. Да, действительно, на обучающей выборке это оптимальное значение, но смысл регуляризации теряется.\n",
        "Почему не стоит по тестовой выборке? На тестовой мы должны проверять готовую модель с уже готовым коэффициентом лямбда. Смысл тестовой выборки теряется, если мы на ней возьмем и подберем этот коэффициент, мы не сможем точно сказать, какая в итоге среднекватратическая ошибка (к ней мы ведь не должны прибавлять к ошибке штраф регуляризации). \n",
        "Сначала по валидационной подбирают значение гиперпараметра, потом по обучающей строят модель, а по тестовой оценивают её итоговое качество. Валидационная нужна для нахождения оптимального лямбда."
      ]
    },
    {
      "cell_type": "markdown",
      "metadata": {
        "id": "-V-gPlyMKdbC"
      },
      "source": [
        "**2. [0 баллов]** Теперь давайте вспомним первую задачу. Если Вы её сделали, то помните, что ошибка аппроксимации многочленом шестой степени довольно высокая. Попытаемся использовать регуляризацию при построении модели. Поделите обучающую выборку из первой задачи на две части, одну из которых объявите обучающей, а другую — валидационной (будьте осторожны при выборе `train_size`, в этой выборке не так много данных)."
      ]
    },
    {
      "cell_type": "code",
      "metadata": {
        "id": "hQHTbX0OKdbD"
      },
      "source": [
        "#╰( ͡° ͜ʖ ͡° )つ──☆*:・ﾟ\n",
        "data_train = np.loadtxt('D:/train.txt', delimiter=',')\n",
        "data_test = np.loadtxt('D:/test.txt', delimiter=',')\n",
        "data_train, data_validate = train_test_split(data_train, test_size=0.2, random_state=6)\n",
        "\n",
        "X_train = data_train[:, 0]\n",
        "y_train = data_train[:, 1]\n",
        "\n",
        "X_validate = data_validate[:, 0]\n",
        "y_validate = data_validate[:, 1]\n",
        "\n",
        "X_test = data_test[:, 0]\n",
        "y_test = data_test[:, 1]\n"
      ],
      "execution_count": null,
      "outputs": []
    },
    {
      "cell_type": "markdown",
      "metadata": {
        "id": "t1xuy0bjKdbE"
      },
      "source": [
        "**3. [0.75 балла]** Убедитесь, что, используя регуляризацию с хорошо подобранным коэффициентом $\\lambda$, ошибку на тестовой выборке можно сделать не больше, чем для многочлена оптимальной степени в модели без регуляризации."
      ]
    },
    {
      "cell_type": "code",
      "metadata": {
        "id": "vtdNM0zLKdbF"
      },
      "source": [
        "X_train = poly2(3, X_train)\n",
        "X_validate = poly2(3, X_validate)"
      ],
      "execution_count": null,
      "outputs": []
    },
    {
      "cell_type": "code",
      "metadata": {
        "id": "rC_mPxE-KdbF"
      },
      "source": [
        "def poly(k):\n",
        "    A = np.ones((len(X_train), 1))\n",
        "    for i in range(1, k + 1):\n",
        "        A = np.concatenate((A, np.matrix(X_train**i).T), axis = 1)\n",
        "    ans = (A.T*A).I*A.T*np.matrix(y_train).T\n",
        "    return ans\n",
        "def print_poly(coef):\n",
        "    print(float(coef[0]), '+', float(coef[1]), 'x', sep='', end='')\n",
        "    for i in range(2, len(coef)):\n",
        "        print('+', float(coef[i]), 'x^', i,sep=\"\", end='')\n",
        "    print()\n",
        "def f(coef, x):\n",
        "    coef = coef.tolist()\n",
        "    ar = []\n",
        "    for i in range(len(coef)):\n",
        "        ar.append(coef[len(coef) - i - 1][0])\n",
        "    pol = np.poly1d(ar)\n",
        "    return pol(x)\n",
        "def poly2(k, X):\n",
        "    A = np.ones((len(X), 1))\n",
        "    for i in range(1, k + 1):\n",
        "        A = np.concatenate((A, np.matrix(X**i).T), axis = 1)\n",
        "    return A"
      ],
      "execution_count": null,
      "outputs": []
    },
    {
      "cell_type": "code",
      "metadata": {
        "id": "xGy3EuIHKdbN",
        "outputId": "de2362bc-4e3d-4b1b-df72-ab0487d121c4"
      },
      "source": [
        "#╰( ͡° ͜ʖ ͡° )つ──☆*:・ﾟ\n",
        "lam_ar = []\n",
        "errors = []\n",
        "for lam in range(4000):\n",
        "    ar = X_train\n",
        "    ans = (ar.T*ar+(lam/1000)*np.eye(ar.shape[1])).I*ar.T*np.matrix(y_train).T\n",
        "    lam_ar.append(lam/1000)\n",
        "    errors.append(MSE(y_validate, X_validate*ans).tolist()[0][0])\n",
        "lam_opt = lam_ar[errors.index(min(errors))]\n",
        "\n",
        "ans = (ar.T*ar+(lam_opt)*np.eye(ar.shape[1])).I*ar.T*np.matrix(y_train).T\n",
        "print('ошибка на тестовой выборке с оптимальным лямбда',MSE(y_test, f(ans, X_test)),', то есть она стала меньше')\n",
        "plt.plot(lam_ar, errors)\n",
        "plt.xlabel('lambda')\n",
        "plt.ylabel('error')\n",
        "plt.show()"
      ],
      "execution_count": null,
      "outputs": [
        {
          "output_type": "stream",
          "text": [
            "ошибка на тестовой выборке с оптимальным лямбда 0.32277502306482325 , то есть она стала меньше\n"
          ],
          "name": "stdout"
        },
        {
          "output_type": "display_data",
          "data": {
            "image/png": "[encoded data removed]",
            "text/plain": [
              "<Figure size 432x288 with 1 Axes>"
            ]
          },
          "metadata": {
            "tags": [],
            "needs_background": "light"
          }
        }
      ]
    },
    {
      "cell_type": "markdown",
      "metadata": {
        "id": "dWjraTSrKdbO"
      },
      "source": [
        "**4. [0.25 балла]** Для этого $\\lambda$ сравните $\\det(X^TX)$ и $\\det(X^TX + \\lambda E)$. Чем можно объяснить такой результат?"
      ]
    },
    {
      "cell_type": "code",
      "metadata": {
        "id": "xh-elewVKdbP",
        "outputId": "27acb394-4d61-4f96-b461-96629727b15f"
      },
      "source": [
        "b = ar*ar.T +np.eye(ar.shape[0])\n",
        "from numpy import linalg as LA\n",
        "print(LA.det(ar*ar.T),' ', LA.det(b))"
      ],
      "execution_count": null,
      "outputs": [
        {
          "output_type": "stream",
          "text": [
            "-3.4191493252544772e-192   143.13472254031265\n"
          ],
          "name": "stdout"
        }
      ]
    },
    {
      "cell_type": "markdown",
      "metadata": {
        "id": "_QSNQ_SZKdbQ"
      },
      "source": [
        "╰( ͡° ͜ʖ ͡° )つ──☆*:・ﾟ\n",
        "$\\det(X^TX)$ практически равен 0, т.е. $X^TX$ практически вырожденная,   а $\\det(X^TX + \\lambda E)$ заметно отличен от нуля. Значит, делать регуляризацию полезно и выгодно, так модель будет стабильнее. Коэффициенты, кстати, без регуляризации намного больше, чем с ней, то есть многочлен с регуляризацией будет более плавным и \"более менеее стабильным\"."
      ]
    },
    {
      "cell_type": "markdown",
      "metadata": {
        "id": "ZJHhEDoUKdbQ"
      },
      "source": [
        "**5. [0.25 балла]** Нарисуйте на одном чертеже графики многочленов шестой степени, приближающих неизвестную функцию, для модели с регуляризацией и без."
      ]
    },
    {
      "cell_type": "code",
      "metadata": {
        "id": "1BcgpTzPKdbR",
        "outputId": "bee09053-df4f-45af-e525-4a5b178bb5bb"
      },
      "source": [
        "#╰( ͡° ͜ʖ ͡° )つ──☆*:・ﾟ\n",
        "X_train = data_train[:, 0]\n",
        "y_train = data_train[:, 1]\n",
        "\n",
        "X_validate = data_validate[:, 0]\n",
        "y_validate = data_validate[:, 1]\n",
        "\n",
        "X_test = data_test[:, 0]\n",
        "y_test = data_test[:, 1]\n",
        "def poly_reg(k):\n",
        "    A = np.ones((len(X_train), 1))\n",
        "    for i in range(1, k + 1):\n",
        "        A = np.concatenate((A, np.matrix(X_train**i).T), axis = 1)\n",
        "    ans = (A.T*A + lam_opt*np.eye(A.shape[1])).I*A.T*np.matrix(y_train).T\n",
        "    return ans\n",
        "fig = plt.figure(figsize=(8,4))\n",
        "plt.scatter(X_train, y_train, label='train', color = 'black')\n",
        "plt.scatter(X_test, y_test, label='test', color = 'yellow')\n",
        "\n",
        "plt.xlabel('x')\n",
        "plt.ylabel('y')\n",
        "\n",
        "x_p = np.linspace(-1, 2, 1000)\n",
        "plt.plot(x_p, f(poly(6), x_p), label = 'Без регуляризации')\n",
        "\n",
        "plt.plot(x_p, f(poly_reg(6), x_p), label = 'С регуляризацией')\n",
        "\n",
        "plt.title('Графики многочленов шестой степени')\n",
        "plt.axis([-1, 2, 2, 9])\n",
        "plt.legend()\n",
        "plt.show()"
      ],
      "execution_count": null,
      "outputs": [
        {
          "output_type": "display_data",
          "data": {
            "image/png": "[encoded data removed]",
            "text/plain": [
              "<Figure size 576x288 with 1 Axes>"
            ]
          },
          "metadata": {
            "tags": [],
            "needs_background": "light"
          }
        }
      ]
    },
    {
      "cell_type": "markdown",
      "metadata": {
        "id": "jbdF6j2qKdbS"
      },
      "source": [
        "**6. [0.25 балла]** Чем первый из них выгодно отличается от второго?"
      ]
    },
    {
      "cell_type": "markdown",
      "metadata": {
        "id": "SKdFVQ8LKdbT"
      },
      "source": [
        "╰( ͡° ͜ʖ ͡° )つ──☆*:・ﾟПервый график выглядит более плавно, он отражает более общую зависимость, а не пытается максимально угодить обучающей выборке. То есть, что мы видим? Второй график начинает плохо справляться, как только сталкивается с неизвестными ему точками, он начинает идти куда-то вниз, что в корне неверно. "
      ]
    },
    {
      "cell_type": "markdown",
      "metadata": {
        "id": "70yhDR2-KdbT"
      },
      "source": [
        "**7. [0.75 балла]** Пусть заданы $X\\in \\text{Mat}_{n \\times k}(\\mathbb{R})$, $\\lambda \\geqslant 0$, а также известно, что $\\text{rk}~X = k \\leqslant n$. Решите следующую задачу оптимизации:\n",
        "$$|Xa - y|^2 + \\lambda|a|^2\\rightarrow\\min\\limits_{a \\in \\mathbb{R}^k}.$$"
      ]
    },
    {
      "cell_type": "markdown",
      "metadata": {
        "id": "Me_9wa2jKdbU"
      },
      "source": [
        "╰( ͡° ͜ʖ ͡° )つ──☆*:・ﾟ\n",
        "Как мы умеем искать минимум функции? Конечно, мы можем взять производную! Возьмем и приравняем ее к нулю: $$2X^TXa - 2X^Ty + 2\\lambda a = 0$$\n",
        "$$2(X^TXa + \\lambda a) = 2X^Ty$$\n",
        "$$(X^TX + \\lambda E) \\cdot a = X^Ty$$\n",
        "$$a = (X^TX + \\lambda E)^{-1}X^Ty$$\n",
        "Получаем, что а это либо точка максимума, либо минимума. Посмотрим на нашу первоначальную функцию: видно, что у нее нет максимума (кстати, важно, что экстремум получился только один), так как когда а стремится  к +-inf функция стремится к +inf, значит существует точка локального минимума. То есть, а это и есть наш ответ.\n"
      ]
    },
    {
      "cell_type": "markdown",
      "metadata": {
        "id": "LmSa6Yv7KdbV"
      },
      "source": [
        "Интуитивно это можно понимать так: мы ищем компромисс между минимизацией длины разности $|Xa - y|$ (то есть точностью решения задачи регрессии) и тем, чтобы компоненты вектора $a$ не становились слишком большими по модулю."
      ]
    },
    {
      "cell_type": "markdown",
      "metadata": {
        "id": "bB8uUENfKdbV"
      },
      "source": [
        "**8. [0.25 балла]** Почему регуляризовать (штрафовать за слишком большую абсолютную величину) коэффициент при константном признаке (который состоит из одних единиц) — плохая идея?"
      ]
    },
    {
      "cell_type": "markdown",
      "metadata": {
        "id": "tF-IFOu1KdbW"
      },
      "source": [
        "╰( ͡° ͜ʖ ͡° )つ──☆*:・ﾟ\n",
        "Этот коэффициент не зависит от х. При введении штрафа его подбор может стать хуже. Если ответы слишком большие, а аргументы маленькие, то подобрать такой многочлен без большого свободного коэффициента (при константе) будет трудно. Более того, свободный коэффициент не влияет на переобучение, с чем мы и боремся с помощью регуляризации. "
      ]
    },
    {
      "cell_type": "markdown",
      "metadata": {
        "id": "7Uuw0puDKdbX"
      },
      "source": [
        "**9. [0.5 балла]** Пусть теперь $\\text{rk}~X < k$. Всегда ли в этом случае существует решение? Если существует, то является ли оно единственным? Ответ обоснуйте."
      ]
    },
    {
      "cell_type": "markdown",
      "metadata": {
        "id": "vmy7pbUZKdbX"
      },
      "source": [
        "╰( ͡° ͜ʖ ͡° )つ──☆*:・ﾟЕсли количество уравнений меньше числа неизвестных, то решений бесконечно много, но если уравнения противоречат друг другу, то решений нет."
      ]
    },
    {
      "cell_type": "markdown",
      "metadata": {
        "id": "Y-NcfPl5KdbY"
      },
      "source": [
        "**10. [0.25 балла]** Покажите, что если решений бесконечно много, то среди них обязательно найдутся решения со сколь угодно большими по модулю компоненты вектора $a$. Почему большие веса в линейной модели — плохо?"
      ]
    },
    {
      "cell_type": "markdown",
      "metadata": {
        "id": "Pt8xkZpZKdbY"
      },
      "source": [
        "╰( ͡° ͜ʖ ͡° )つ──☆*:・ﾟ\n",
        "Есть свободные переменные и есть зависимые, а свободные могут быть любыми. Значит, поскольку зависимые выражены через свободные, то они могут быть сколь угодно большими. Мы увидели в этой лабораторной работе (в 3 задании) график функции, где веса без регуляризации. Мы видим сильные колебания, то есть функция очень сильно подстраивается под данную обучающую выборку (переобучается) в то время как нас интересует общее решение. "
      ]
    },
    {
      "cell_type": "markdown",
      "metadata": {
        "id": "be9msYHqKdbZ"
      },
      "source": [
        "### Задание 4. Онлайн-обучение линейной регрессии (3 балла)"
      ]
    },
    {
      "cell_type": "markdown",
      "metadata": {
        "id": "MXQk2ohqKdba"
      },
      "source": [
        "Раньше мы работали в ситуации, когда объекты $x_i$ и значения $y_i$ даны с самого начала и всегда доступны. Допустим теперь, что пары $(x_i, y_i)$ поступают к нам по одной, и мы не можем себе позволить хранить их все в памяти (это может быть актуально, например, если Вы пытаетесь обучить модель на устройстве со сравнительно небольшим количеством оперативной памяти: скажем, на мобильном телефоне или на бортовом компьютере спутника связи). В этом случае нам нужно уметь решать следующую задачу:\n",
        "\n",
        "**Известно:** решение задачи регрессии для датасета $(x_1, y_1),\\ldots,(x_t,y_t)$;\n",
        "\n",
        "**На вход поступает:** новая пара $(x_{t+1}, y_{t+1})$;\n",
        "\n",
        "**Требуется:** быстро (за время, не зависящее от $t$) отыскать решение задачи регрессии для расширенного датасета $(x_1, y_1),\\ldots,(x_t,y_t),(x_{t+1}, y_{t+1})$."
      ]
    },
    {
      "cell_type": "markdown",
      "metadata": {
        "id": "NiUVC1bKKdba"
      },
      "source": [
        "Обозначим $X_{(t)} = (x_1\\ldots x_t)^T$ и $y_{(t)} = (y_1,\\ldots,y_t)^T$. Тогда, как мы хорошо помним, решение задачи регрессии для датасета $(x_1, y_1),\\ldots,(x_t,y_t)$ имеет вид $\\hat{a}_{(t)} = \\left(X^T_{(t)}X_{(t)}\\right)^{-1}X^T_{(t)}y_{(t)}$. Размеры матриц $X^T_{(t)}X_{(t)}$ и $X^T_{(t)}y_{(t)}$ не зависят от $t$, поэтому их мы, пожалуй, можем себе позволить хранить в памяти."
      ]
    },
    {
      "cell_type": "markdown",
      "metadata": {
        "id": "N1I5vGdQKdbb"
      },
      "source": [
        "**1. [1 балл]** И вот Ваше первое задание в этом разделе: придумайте алгоритм, принимающий на вход матрицы $X^T_{(t)}X_{(t)}$ и $X^T_{(t)}y_{(t)}$, а также пару $(x_{t+1}, y_{t+1})$ и вычисляющий матрицы $X^T_{(t+1)}X_{(t+1)}$ и $X^T_{(t+1)}y_{(t+1)}$. Сложность вашего алгоритма не должна зависеть от $t$."
      ]
    },
    {
      "cell_type": "markdown",
      "metadata": {
        "id": "t0T0RlwnKdbc"
      },
      "source": [
        "╰( ͡° ͜ʖ ͡° )つ──☆*:・ﾟ\n",
        "\n",
        "Даны матрицы $X^T_{(t)}X_{(t)}$ и $X_{(t)}^Ty_{(t)}$. После добавления $(x_{t+1}, y_{t+1})$ в $X$ и $y$ добавилась новая строка\n",
        "$$X_{(t+1)} =  (x_1, x_2,\\dots, x_{t+1})$$\n",
        "По формулам из лекций (про умножение блоков): $$X^T_{(t+1)}X_{(t+1)} = X^T_{(t)}X_{(t)} + x^T_{t+1}x_{t+1}$$ \n",
        "\n",
        "К $X_T$ прибавился столбец $x^T_{t+1}$, а к $y$ прибавилась строка $y_{t+1}$. Значит, аналогично:\n",
        "$$X_{(t+1)}^Ty_{(t+1)} = X_{(t)}^Ty_{(t)} + x^T_{t+1}y_{t+1}$$\n",
        "\n",
        "Сложность алгоритма не зависит от $t$ (она зависит только от размеров $x_{t+1}$ и $y_{t+1}$)"
      ]
    },
    {
      "cell_type": "markdown",
      "metadata": {
        "id": "vHqUG5kNKdbc"
      },
      "source": [
        "**2. [2 балла]** Теперь настало время написать немного кода и порисовать красивые картинки. Вам нужно будет реализовать симуляцию онлайн-обучения регрессии для задачи приближения функции (в данном случае $f_{true}(x) = 2x\\sin(5x) + x^2 - 1$; все значения искажены небольшим нормальным шумом) многочленом степени не выше 5."
      ]
    },
    {
      "cell_type": "code",
      "metadata": {
        "id": "PCiGZG_rKdbd",
        "outputId": "48ca4b49-766d-4eec-8c4b-1c27ba68e558"
      },
      "source": [
        "from IPython.display import clear_output\n",
        "\n",
        "f_true = lambda x: 2*x*np.sin(5*x) + x**2 - 1 # this is the true function\n",
        "\n",
        "# We need this to make the plot of f_true:\n",
        "x_grid = np.linspace(-2,5,100) # 100 linearly spaced numbers\n",
        "x_grid_enl = np.hstack((x_grid.reshape((100,1))**j for j in range(6)))\n",
        "y_grid = f_true(x_grid)\n",
        "\n",
        "x_gr = poly2(5, x_grid)\n",
        "X_t_X = None\n",
        "X_t_y = None\n",
        "for i in range(200):\n",
        "\n",
        "    x_new = np.random.uniform(-2, 5)\n",
        "    y_new = f_true(x_new) + 2*np.random.randn()\n",
        "    \n",
        "    #╰( ͡° ͜ʖ ͡° )つ──☆*:・ﾟ\n",
        "    poly_new = poly2(5, np.array([x_new]))\n",
        "    if X_t_X is None: \n",
        "        X_t_X = np.dot(poly_new.T, poly_new)\n",
        "    else:\n",
        "        X_t_X += np.dot(poly_new.T, poly_new)\n",
        "    \n",
        "    if X_t_y is None:\n",
        "        X_t_y = y_new * poly_new.T\n",
        "    else:\n",
        "        X_t_y += y_new * poly_new.T\n",
        "    \n",
        "    # the rest of code is just bells and whistles\n",
        "    if (i+1)%5==0:\n",
        "        clear_output(True)\n",
        "        plt.plot(x_grid,y_grid, color='blue', label='true f')\n",
        "        plt.scatter(x_new, y_new, color='red')\n",
        "        \n",
        "        #╰( ͡° ͜ʖ ͡° )つ──☆*:・ﾟ\n",
        "        y_pred = np.dot(x_gr, np.dot(LA.inv(X_t_X), X_t_y)).reshape(-1)\n",
        "        \n",
        "        plt.scatter(x_grid, y_pred.tolist()[0], color='orange', linewidth=5, label='predicted f')\n",
        "        \n",
        "        plt.legend(loc='upper left')\n",
        "        plt.show()"
      ],
      "execution_count": null,
      "outputs": [
        {
          "output_type": "display_data",
          "data": {
            "image/png": "[encoded data removed]",
            "text/plain": [
              "<Figure size 432x288 with 1 Axes>"
            ]
          },
          "metadata": {
            "tags": [],
            "needs_background": "light"
          }
        }
      ]
    },
    {
      "cell_type": "markdown",
      "metadata": {
        "id": "Lz0li9JkKdbe"
      },
      "source": [
        "### Добавление. QR-разложение"
      ]
    },
    {
      "cell_type": "markdown",
      "metadata": {
        "id": "EBE3x2EgKdbf"
      },
      "source": [
        "**QR-разложением** матрицы $A$ (не обязательно квадратной) мы будем называть её представление в виде $A = QR$, где $Q$ — матрица с ортонормированными столбцами, а $R$ - верхнетреугольная матрица.\n",
        "\n",
        "Смысл QR-разложения следующий. Пусть $a_1,\\ldots,a_m$ — столбцы матрицы $A$, $q_1,\\ldots,q_t$ — столбцы матрицы $Q$. Тогда $q_1,\\ldots,q_t$ — это ортонормированный базис в подпространстве, являющемся линейной оболочкой векторов $a_1,\\ldots,a_m$, а в матрице $R$ записаны коэффициенты, с помощью которых $a_i$ выражаются через $q_1,\\ldots,q_t$.\n",
        "\n",
        "Находить QR-разложение заданной матрицы можно разными способами. Мы познакомим Вас не с самым лучшим из них, но по крайней мере с наиболее простым концептуально. Заметим, что ортогональный базис линейной оболочки можно найти с помощью ортогонализации Грама-Шмидта. При этом коэффициенты из матрицы $R$ получаются в качестве побочного продукта этого процесса:\n",
        "\n",
        "```python\n",
        "for j = 1...n:\n",
        "    q_j = a_j\n",
        "    for i = 1,...,j-1:\n",
        "        r_ij = (q_i, a_j)\n",
        "        q_j = q_j - r_ij * q_i\n",
        "    r_jj = |q_j|\n",
        "    if r_jj == 0: # a_j in <a_1,...,a_j-1>\n",
        "        # What would you do in this case?..\n",
        "    q_j = q_j / r_jj\n",
        "```\n",
        "\n",
        "Для нахождения QR-разложения Вы можете использовать библиотечную функцию `scipy.linalg.qr`."
      ]
    },
    {
      "cell_type": "markdown",
      "metadata": {
        "id": "nhZ9jCaQKdbf"
      },
      "source": [
        "Поскольку лабораторная про линейную регрессию, не так-то просто замять вопрос о том, какое же отношение QR-разложение имеет к задаче регрессии. Упомянем одно из возможных применений.\n",
        "\n",
        "Допустим, мы нашли QR-разложение матрицы $X$, а именно: $X = QR$. Тогда\n",
        "$$X^TX = (QR)^T(QR) = R^TQ^TQR = R^TR$$"
      ]
    },
    {
      "cell_type": "markdown",
      "metadata": {
        "id": "rlw_MrrHKdbg"
      },
      "source": [
        "Поскольку в задаче регрессии матрица $X$ обычного полного ранга (то есть её столбцы линейно независимы), матрица $R$ будет квадратной. Благодаря этому нашу обычную формулу для набора регрессионных коэффициентов $\\hat{a}$ можно переписать в следующем виде:\n",
        "\n",
        "$$\\hat{a} = (X^TX)^{-1}X^Ty = (R^TR)^{-1}(QR)^Ty = R^{-1}(R^T)^{-1}R^TQ^Ty = R^{-1}Q^Ty$$\n",
        "\n",
        "Как видите, формула стала проще. Более того, зачастую обращение матрицы $R$ может быть численно более устойчиво, чем обращение матрицы $X^TX$."
      ]
    }
  ]
}