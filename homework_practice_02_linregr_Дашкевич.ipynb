import numpy as np
from matplotlib import pyplot as plt
from IPython.display import clear_output
from sklearn.model_selection import train_test_split

//Загрузка обучающих и тестовых данных
data_train = np.loadtxt('D:/train.txt', delimiter=',')
data_test = np.loadtxt('D:/test.txt', delimiter=',')

//Разделим значения x и y
X_train = data_train[:,0]
y_train = data_train[:,1]

X_test = data_test[:,0]
y_test = data_test[:,1]


ar = np.concatenate((np.matrix(X_train).T, np.ones((len(X_train), 1))), axis = 1)
ans = (ar.T*ar).I*ar.T*np.matrix(y_train).T
print(float(ans[0]), "*x +", float(ans[1][0]))

def f(x):
    return ans[0]*x + ans[1]

plt.scatter(X_train, y_train, label = "Тренировочная выборка", color = 'black')
plt.scatter(X_test, y_test, label = "Тестовая выборка", color = 'yellow')
plt.plot(X_test, f(X_test).T, label = "Наша линейная функция")
plt.title("Точки (х, у) и полученная линейная функция")
plt.xlabel("x")
plt.ylabel("y")
plt.legend()
plt.show()

def poly(k):
    A = np.ones((len(X_train), 1))
    for i in range(1, k + 1):
        A = np.concatenate((A, np.matrix(X_train**i).T), axis = 1)
    ans = (A.T*A).I*A.T*np.matrix(y_train).T
    return ans
def print_poly(coef):
    print(float(coef[0]), '+', float(coef[1]), 'x', sep='', end='')
    for i in range(2, len(coef)):
        print('+', float(coef[i]), 'x^', i,sep="", end='')
    print()
def f(coef, x):
    coef = coef.tolist()
    ar = []
    for i in range(len(coef)):
        ar.append(coef[len(coef) - i - 1][0])
    pol = np.poly1d(ar)
    return pol(x)
print("для k =", 3, ": ",end='')
print_poly(poly(3))

plt.scatter(X_train, y_train, label = "Тренировочная выборка", color = 'black')
plt.scatter(X_test, y_test, label = "Тестовая выборка", color = 'yellow')
plt.plot(X_test, f(poly(3), X_test), label = "Предполагаемый многочлен")
plt.title("Точки (х, у) и предполагаемый многочлен")
plt.xlabel("x")
plt.ylabel("y")
plt.legend()
plt.show()
for i in range(1, 11):
    print("для k =", i, ": ",end='')
    print_poly(poly(i))
    print()
def MSE(y_real, y_pred):
    ans = 0
    for i in range(len(y_real)):
        ans += (y_real[i] - y_pred[i])**2
    return ans/len(y_pred)

print("для тренировочной", end = '')
for i in range(1, 11):
    print(" k=", i, ": ", end = '')
    print(MSE(f(poly(i), X_train), y_train))
print("для тестовой", end = '')

for i in range(1, 11):
    print(" k=", i, ": ", end = '')
    print(MSE(f(poly(i), X_test), y_test))

plt.figure(figsize=(15, 15))
plt.scatter(X_train, y_train, label = "Тренировочная выборка", color = 'black')
plt.scatter(X_test, y_test, label = "Тестовая выборка", color = 'yellow')
plt.plot(X_test, f(poly(1), X_test), label = "Многочлен 1-ой степени")
plt.plot(X_test, f(poly(2), X_test), label = "Многочлен 2-ой степени")
plt.plot(X_test, f(poly(3), X_test), label = "Многочлен 3-ой степени")
plt.plot(X_test, f(poly(4), X_test), label = "Многочлен 4-ой степени")
plt.plot(X_test, f(poly(6), X_test), label = "Многочлен 6-ой степени")
plt.title("Точки (х, у) и многочлены")
plt.xlabel("x")
plt.ylabel("y")
plt.legend()
plt.show()

data = np.loadtxt("D:/flats_moscow_mod.txt", delimiter='\t', skiprows=1)
X_train, X_test, y_train, y_test = train_test_split(data[:, 1:], data[:,0], test_size=0.3, random_state=11)
ar = np.concatenate((np.matrix(X_train), np.ones((X_train.shape[0], 1))), axis = 1)
ans = (ar.T*ar).I*ar.T*np.matrix(y_train).T
print("Коэффициент для общей площади:", float(ans[0]))
print("Коэффициент для жилой площади:", float(ans[1]))
print("Коэффициент для площади кухни:", float(ans[2]))
print("Коэффициент для расстояния от центра:", float(ans[3]))
print("Коэффициент для расстояния до метро:", float(ans[4]))
array = np.concatenate((X_test, np.ones((X_test.shape[0], 1))), axis = 1)
my_ans = array*ans
MSE(y_test, my_ans).tolist()[0][0]
attay=X_train.copy()

attay = np.concatenate((attay, np.matrix(np.power(X_train[:, 1], 2)).T), axis = 1)
X_test1=np.concatenate((X_test, np.matrix(np.power(X_test[:, 1], 2)).T), axis = 1)
ar = np.concatenate((np.matrix(attay), np.ones((X_train.shape[0], 1))), axis = 1)
ans = (ar.T*ar).I*ar.T*np.matrix(y_train).T
X_test2=np.concatenate((np.matrix(X_test1), np.ones((X_test.shape[0], 1))), axis = 1)
my_price = X_test2*ans

print("Коэффициент для остальной площади:", float(ans[0]))
print("Коэффициент для жилой площади:", float(ans[1]))
print("Коэффициент для площади кухни:", float(ans[2]))
print("Коэффициент для расстояния от центра:", float(ans[3]))
print("Коэффициент для расстояния до метро:", float(ans[4]))
print("Кооэффициент для расстояния до метро в квадрате:", float(ans[5]))
MSE(y_test, my_price).tolist()[0][0]
data_train = np.loadtxt('D:/train.txt', delimiter=',')
data_test = np.loadtxt('D:/test.txt', delimiter=',')
data_train, data_validate = train_test_split(data_train, test_size=0.2, random_state=6)

X_train = data_train[:, 0]
y_train = data_train[:, 1]

X_validate = data_validate[:, 0]
y_validate = data_validate[:, 1]

X_test = data_test[:, 0]
y_test = data_test[:, 1]

X_train = poly2(3, X_train)
X_validate = poly2(3, X_validate)

def poly(k):
    A = np.ones((len(X_train), 1))
    for i in range(1, k + 1):
        A = np.concatenate((A, np.matrix(X_train**i).T), axis = 1)
    ans = (A.T*A).I*A.T*np.matrix(y_train).T
    return ans
def print_poly(coef):
    print(float(coef[0]), '+', float(coef[1]), 'x', sep='', end='')
    for i in range(2, len(coef)):
        print('+', float(coef[i]), 'x^', i,sep="", end='')
    print()
def f(coef, x):
    coef = coef.tolist()
    ar = []
    for i in range(len(coef)):
        ar.append(coef[len(coef) - i - 1][0])
    pol = np.poly1d(ar)
    return pol(x)
def poly2(k, X):
    A = np.ones((len(X), 1))
    for i in range(1, k + 1):
        A = np.concatenate((A, np.matrix(X**i).T), axis = 1)
    return A
lam_ar = []
errors = []
for lam in range(4000):
    ar = X_train
    ans = (ar.T*ar+(lam/1000)*np.eye(ar.shape[1])).I*ar.T*np.matrix(y_train).T
    lam_ar.append(lam/1000)
    errors.append(MSE(y_validate, X_validate*ans).tolist()[0][0])
lam_opt = lam_ar[errors.index(min(errors))]

ans = (ar.T*ar+(lam_opt)*np.eye(ar.shape[1])).I*ar.T*np.matrix(y_train).T
print('ошибка на тестовой выборке с оптимальным лямбда',MSE(y_test, f(ans, X_test)),', то есть она стала меньше')
plt.plot(lam_ar, errors)
plt.xlabel('lambda')
plt.ylabel('error')
plt.show()
b = ar*ar.T +np.eye(ar.shape[0])
from numpy import linalg as LA
print(LA.det(ar*ar.T),' ', LA.det(b))
X_train = data_train[:, 0]
y_train = data_train[:, 1]

X_validate = data_validate[:, 0]
y_validate = data_validate[:, 1]

X_test = data_test[:, 0]
y_test = data_test[:, 1]
def poly_reg(k):
    A = np.ones((len(X_train), 1))
    for i in range(1, k + 1):
        A = np.concatenate((A, np.matrix(X_train**i).T), axis = 1)
    ans = (A.T*A + lam_opt*np.eye(A.shape[1])).I*A.T*np.matrix(y_train).T
    return ans
fig = plt.figure(figsize=(8,4))
plt.scatter(X_train, y_train, label='train', color = 'black')
plt.scatter(X_test, y_test, label='test', color = 'yellow')

plt.xlabel('x')
plt.ylabel('y')

x_p = np.linspace(-1, 2, 1000)
plt.plot(x_p, f(poly(6), x_p), label = 'Без регуляризации')

plt.plot(x_p, f(poly_reg(6), x_p), label = 'С регуляризацией')

plt.title('Графики многочленов шестой степени')
plt.axis([-1, 2, 2, 9])
plt.legend()
plt.show()
from IPython.display import clear_output

f_true = lambda x: 2*x*np.sin(5*x) + x**2 - 1 # this is the true function

// We need this to make the plot of f_true:
x_grid = np.linspace(-2,5,100) # 100 linearly spaced numbers
x_grid_enl = np.hstack((x_grid.reshape((100,1))**j for j in range(6)))
y_grid = f_true(x_grid)

x_gr = poly2(5, x_grid)
X_t_X = None
X_t_y = None
for i in range(200):

    x_new = np.random.uniform(-2, 5)
    y_new = f_true(x_new) + 2*np.random.randn()
    
    #╰( ͡° ͜ʖ ͡° )つ──☆*:・ﾟ
    poly_new = poly2(5, np.array([x_new]))
    if X_t_X is None: 
        X_t_X = np.dot(poly_new.T, poly_new)
    else:
        X_t_X += np.dot(poly_new.T, poly_new)
    
    if X_t_y is None:
        X_t_y = y_new * poly_new.T
    else:
        X_t_y += y_new * poly_new.T
    
    // the rest of code is just bells and whistles
    if (i+1)%5==0:
        clear_output(True)
        plt.plot(x_grid,y_grid, color='blue', label='true f')
        plt.scatter(x_new, y_new, color='red')
       
        y_pred = np.dot(x_gr, np.dot(LA.inv(X_t_X), X_t_y)).reshape(-1)
        
        plt.scatter(x_grid, y_pred.tolist()[0], color='orange', linewidth=5, label='predicted f')
        
        plt.legend(loc='upper left')
        plt.show()
for j = 1...n:
    q_j = a_j
    for i = 1,...,j-1:
        r_ij = (q_i, a_j)
        q_j = q_j - r_ij * q_i
    r_jj = |q_j|
    if r_jj == 0: # a_j in <a_1,...,a_j-1>
        //What would you do in this case?..
    q_j = q_j / r_jj
